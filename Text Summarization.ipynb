{
 "cells": [
  {
   "cell_type": "markdown",
   "metadata": {},
   "source": [
    "# Import Custom Attention Layer"
   ]
  },
  {
   "cell_type": "code",
   "execution_count": 1,
   "metadata": {},
   "outputs": [],
   "source": [
    "import os\n",
    "os.chdir('C:/Users/kbhandari/OneDrive - Epsilon/Desktop/Not Just OLS/LSTM/Text Summarization')\n",
    "from attention import AttentionLayer"
   ]
  },
  {
   "cell_type": "markdown",
   "metadata": {},
   "source": [
    "# Import all libraries"
   ]
  },
  {
   "cell_type": "code",
   "execution_count": 2,
   "metadata": {},
   "outputs": [
    {
     "name": "stderr",
     "output_type": "stream",
     "text": [
      "Using TensorFlow backend.\n"
     ]
    }
   ],
   "source": [
    "import numpy as np\n",
    "import pandas as pd \n",
    "import re\n",
    "from keras.preprocessing.text import Tokenizer \n",
    "from keras.preprocessing.sequence import pad_sequences\n",
    "from nltk.corpus import stopwords\n",
    "#import nltk\n",
    "#nltk.download('stopwords')\n",
    "from tensorflow.keras.layers import Input, LSTM, Embedding, Dense, Concatenate, TimeDistributed\n",
    "from tensorflow.keras.models import Model\n",
    "from tensorflow.keras.callbacks import EarlyStopping\n",
    "import warnings\n",
    "pd.set_option(\"display.max_colwidth\", 200)\n",
    "warnings.filterwarnings(\"ignore\")"
   ]
  },
  {
   "cell_type": "markdown",
   "metadata": {},
   "source": [
    "# Read the dataset"
   ]
  },
  {
   "cell_type": "code",
   "execution_count": 3,
   "metadata": {},
   "outputs": [
    {
     "name": "stdout",
     "output_type": "stream",
     "text": [
      "<class 'pandas.core.frame.DataFrame'>\n",
      "Int64Index: 17539 entries, 0 to 19976\n",
      "Data columns (total 2 columns):\n",
      "Summary    17539 non-null object\n",
      "Text       17539 non-null object\n",
      "dtypes: object(2)\n",
      "memory usage: 411.1+ KB\n"
     ]
    }
   ],
   "source": [
    "data = pd.read_csv('flipkart_com-ecommerce_sample.csv')\n",
    "data = data[['product_name','description']]\n",
    "data.columns = ['Summary', 'Text']\n",
    "data.replace(\"\", float(\"NaN\"), inplace=True)\n",
    "\n",
    "#dropping duplicates\n",
    "data.drop_duplicates(subset=['Text'],inplace=True)\n",
    "#dropping na\n",
    "data.dropna(axis=0,inplace=True)\n",
    "\n",
    "data.info()"
   ]
  },
  {
   "cell_type": "markdown",
   "metadata": {},
   "source": [
    "# Preprocessing"
   ]
  },
  {
   "cell_type": "code",
   "execution_count": 4,
   "metadata": {},
   "outputs": [],
   "source": [
    "stop_words = set(stopwords.words('english')) \n",
    "\n",
    "def text_cleaner(text, remove_stopwords = True):\n",
    "    cleanedString = text.lower() #Convert everything to lowercase\n",
    "    cleanedString = re.sub(r'\\([^)]*\\)', '', cleanedString) \n",
    "    cleanedString = re.sub('\"','', cleanedString) #Replace double quotes   \n",
    "    cleanedString = re.sub(r\"'s\\b\",\"\",cleanedString) #Remove (‘s)\n",
    "    cleanedString = re.sub(\"[^a-zA-Z]\", \" \", cleanedString) #Eliminate punctuations and special characters\n",
    "    if remove_stopwords:\n",
    "        tokens = [w for w in cleanedString.split() if not w in stop_words] #Remove stopwords\n",
    "    else:\n",
    "        tokens=cleanedString.split()\n",
    "    long_words=[]\n",
    "    for i in tokens:\n",
    "        if len(i)>1:   #Remove short words\n",
    "            long_words.append(i)   \n",
    "    return (\" \".join(long_words)).strip()"
   ]
  },
  {
   "cell_type": "code",
   "execution_count": 5,
   "metadata": {},
   "outputs": [
    {
     "name": "stdout",
     "output_type": "stream",
     "text": [
      "['key features alisha solid women cycling shorts cotton lycra navy red navy specifications alisha solid women cycling shorts shorts details number contents sales package pack fabric cotton lycra type cycling shorts general details pattern solid ideal women fabric care gentle machine wash lukewarm water bleach additional details style code altht box shorts', 'fabhomedecor fabric double sofa bed price rs fine deep seating experience save space new click clack sofa bed easy fold vice versa simple click clack mechanism chrome legs mango wood frame long term durability double cushioned sofa bed provide extra softness make fine seating experience double bed easily sleep two specifications fabhomedecor fabric double sofa bed installation demo installation demo details installation demo product done free cost part purchase service partner visit location within business hours delivery product box sofa bed general brand fabhomedecor mattress included delivery condition knock storage included mechanism type pull type sofa bed style contemporary modern filling material microfiber seating capacity seater upholstery type na upholstery included bed size double shape square suitable living room model number fhd care instructions avoid outdoor use exposure water prolonged moisture avoid exposure direct heat sunlight cause sofa colour fade keep sharp objects away sofa little tear fabric cover may hard repair vacuum sofas periodically soft bristled bru view avoid outdoor use exposure water prolonged moisture avoid exposure direct heat sunlight cause sofa colour fade keep sharp objects away sofa little tear fabric cover may hard repair vacuum sofas periodically soft bristled brush attachment lightly brush keep general dirt dust sofa prevent embedding fibres try avoid food drink spillage kind spills occur leave unattended case stain water free fabric cleaner used however avoid applying cleaner directly stain cause damage fabric fade colour pour cleaner onto clean cloth test effect hidden area sofa cleaning stain cloth professional scotchguard treatment one easiest effective options protect spills stains keep pet hair bay getting sofa professionally cleaned every months take care nooks corners reach also make durable finish type matte important note cancellation allowed product hrs order booking warranty covered warranty warranty covers kind manufacturing defects concerned product either repaired replaced based discretion service type manufacturer warranty warranty summary months domestic warranty covered warranty warranty cover improper handling dimensions weight kg height mm width mm depth mm disclaimer color product may vary slightly compared picture displayed screen due lighting pixel quality color settings please check product dimensions ensure product fit desired location also check product fit view color product may vary slightly compared picture displayed screen due lighting pixel quality color settings please check product dimensions ensure product fit desired location also check product fit entrance door premises please expect unevenness mm product due differences surfaces floor levels flipkart seller delivering product take type civil work drilling holes wall mount product product assembled case carpentry assembly required case product appears lack shine wiping surface cloth help clear surface dust particles material color upholstery color leatherette black primary color black primary material fabric secondary material subtype mango wood secondary material foam finish color leatherette black primary material subtype foam', 'key features aw bellies sandals wedges heel casuals aw bellies price rs material synthetic lifestyle casual heel type wedge warranty type manufacturer product warranty manufacturing defects days care instructions allow pair shoes air de odorize regular basis use shoe bags prevent stains mildew dust dry dirt surface using clean cloth use polish shiner specifications aw bellies general ideal women occasion casual shoe details color red outer material patent leather heel height inch number contents sales package pack box one pair shoes', 'key features alisha solid women cycling shorts cotton lycra black red specifications alisha solid women cycling shorts shorts details number contents sales package pack fabric cotton lycra type cycling shorts general details pattern solid ideal women fabric care gentle machine wash lukewarm water bleach additional details style code altght box shorts', 'specifications sicons purpose arnica dog shampoo general pet type dog brand sicons quantity ml model number sh df type purpose fragrance arnica form factor liquid box sales package shampoo sicons dog fashion arnica']\n"
     ]
    }
   ],
   "source": [
    "#Calling the function on Source\n",
    "cleaned_source = []\n",
    "for t in data['Text']:\n",
    "    cleaned_source.append(text_cleaner(t, remove_stopwords = True))\n",
    "    \n",
    "print(cleaned_source[:5])"
   ]
  },
  {
   "cell_type": "code",
   "execution_count": 6,
   "metadata": {},
   "outputs": [
    {
     "name": "stdout",
     "output_type": "stream",
     "text": [
      "['alisha solid women cycling shorts', 'fabhomedecor fabric double sofa bed', 'aw bellies', 'alisha solid women cycling shorts', 'sicons all purpose arnica dog shampoo']\n"
     ]
    }
   ],
   "source": [
    "#Calling the function on Target\n",
    "cleaned_target = []\n",
    "for t in data['Summary']:\n",
    "    cleaned_target.append(text_cleaner(t, remove_stopwords = False))\n",
    "\n",
    "print(cleaned_target[:5])"
   ]
  },
  {
   "cell_type": "code",
   "execution_count": 7,
   "metadata": {},
   "outputs": [],
   "source": [
    "data['cleaned_source']=cleaned_source\n",
    "data['cleaned_target']=cleaned_target"
   ]
  },
  {
   "cell_type": "markdown",
   "metadata": {},
   "source": [
    "# Drop Empty Rows"
   ]
  },
  {
   "cell_type": "code",
   "execution_count": 8,
   "metadata": {},
   "outputs": [
    {
     "name": "stdout",
     "output_type": "stream",
     "text": [
      "(17539, 4)\n"
     ]
    }
   ],
   "source": [
    "data.replace('', np.nan, inplace=True)\n",
    "data.dropna(axis=0,inplace=True)\n",
    "print(data.shape)"
   ]
  },
  {
   "cell_type": "markdown",
   "metadata": {},
   "source": [
    "# EDA on Text Sequences\n",
    "Here, we will analyze the length of the source and the target to get an overall idea about the distribution of length of the text. This will help us fix the maximum length of the sequence:"
   ]
  },
  {
   "cell_type": "code",
   "execution_count": 9,
   "metadata": {},
   "outputs": [],
   "source": [
    "import matplotlib.pyplot as plt\n",
    "%matplotlib inline"
   ]
  },
  {
   "cell_type": "code",
   "execution_count": 10,
   "metadata": {},
   "outputs": [
    {
     "data": {
      "image/png": "[encoded data removed]",
      "text/plain": [
       "<Figure size 432x288 with 2 Axes>"
      ]
     },
     "metadata": {
      "needs_background": "light"
     },
     "output_type": "display_data"
    }
   ],
   "source": [
    "source_word_count = []\n",
    "target_word_count = []\n",
    "\n",
    "# Appending sequence lengths to the lists\n",
    "for i in data['cleaned_source']:\n",
    "      source_word_count.append(len(i.split()))\n",
    "\n",
    "for i in data['cleaned_target']:\n",
    "      target_word_count.append(len(i.split()))\n",
    "\n",
    "length_df = pd.DataFrame({'text':source_word_count, 'summary':target_word_count})\n",
    "\n",
    "length_df.hist(bins = 30)\n",
    "plt.show()"
   ]
  },
  {
   "cell_type": "markdown",
   "metadata": {},
   "source": [
    "Let us understand what percentage of source and target sequences fall below 100 and 20 respectively. This will help us understand where to cap the sequence length."
   ]
  },
  {
   "cell_type": "code",
   "execution_count": 11,
   "metadata": {},
   "outputs": [
    {
     "name": "stdout",
     "output_type": "stream",
     "text": [
      "0.8819202919208621\n"
     ]
    }
   ],
   "source": [
    "cnt=0\n",
    "for i in data['cleaned_source']:\n",
    "    if(len(i.split())<=100):\n",
    "        cnt=cnt+1\n",
    "print(cnt/len(data['cleaned_source']))"
   ]
  },
  {
   "cell_type": "code",
   "execution_count": 12,
   "metadata": {},
   "outputs": [
    {
     "name": "stdout",
     "output_type": "stream",
     "text": [
      "0.9992017788927533\n"
     ]
    }
   ],
   "source": [
    "cnt=0\n",
    "for i in data['cleaned_target']:\n",
    "    if(len(i.split())<=20):\n",
    "        cnt=cnt+1\n",
    "print(cnt/len(data['cleaned_target']))"
   ]
  },
  {
   "cell_type": "markdown",
   "metadata": {},
   "source": [
    "We can fix the maximum length of the target to 20 since that seems to capture majority of the words in the sequence.\n",
    "For the source sequence length, we can fix that to 100 as it captures 88% of the total sequences in the dataset."
   ]
  },
  {
   "cell_type": "code",
   "execution_count": 13,
   "metadata": {},
   "outputs": [],
   "source": [
    "max_source_len=100\n",
    "max_target_len=20"
   ]
  },
  {
   "cell_type": "markdown",
   "metadata": {},
   "source": [
    "Let us select the source and target sentences whose length is less than or equal to **max_source_len** and **max_target_len**."
   ]
  },
  {
   "cell_type": "code",
   "execution_count": 14,
   "metadata": {},
   "outputs": [],
   "source": [
    "cleaned_source = np.array(data['cleaned_source'])\n",
    "cleaned_target = np.array(data['cleaned_target'])\n",
    "\n",
    "short_source=[]\n",
    "short_target=[]\n",
    "\n",
    "for i in range(len(cleaned_source)):\n",
    "    if(len(cleaned_target[i].split())<=max_target_len and len(cleaned_source[i].split())<=max_source_len):\n",
    "        short_source.append(cleaned_source[i])\n",
    "        short_target.append(cleaned_target[i])\n",
    "        \n",
    "df=pd.DataFrame({'source':short_source,'target':short_target})"
   ]
  },
  {
   "cell_type": "markdown",
   "metadata": {},
   "source": [
    "Now, we add the **start** and **end** special tokens at the beginning and end of the target sentence. Note, this is only for the target sequence, not for the source sequence."
   ]
  },
  {
   "cell_type": "code",
   "execution_count": 15,
   "metadata": {},
   "outputs": [],
   "source": [
    "df['target'] = df['target'].apply(lambda x : 'start '+ x + ' end')"
   ]
  },
  {
   "cell_type": "code",
   "execution_count": 16,
   "metadata": {},
   "outputs": [
    {
     "name": "stdout",
     "output_type": "stream",
     "text": [
      "(13918,) (13918,)\n",
      "(1547,) (1547,)\n"
     ]
    }
   ],
   "source": [
    "from sklearn.model_selection import train_test_split\n",
    "x_train, x_val, y_train, y_val = train_test_split(df['source'].values, df['target'].values,\n",
    "                                               test_size=0.1, random_state=123, shuffle=True)\n",
    "print(x_train.shape, y_train.shape)\n",
    "print(x_val.shape, y_val.shape)"
   ]
  },
  {
   "cell_type": "markdown",
   "metadata": {},
   "source": [
    "# Source Text Tokenizer"
   ]
  },
  {
   "cell_type": "code",
   "execution_count": 17,
   "metadata": {},
   "outputs": [
    {
     "name": "stdout",
     "output_type": "stream",
     "text": [
      "13880\n"
     ]
    }
   ],
   "source": [
    "from keras.preprocessing.text import Tokenizer \n",
    "from keras.preprocessing.sequence import pad_sequences\n",
    "\n",
    "#Tokenize source words in training data\n",
    "x_tokenizer = Tokenizer() \n",
    "x_tokenizer.fit_on_texts(list(x_train))\n",
    "\n",
    "#Convert text sequences into integer sequences\n",
    "x_train_seq = x_tokenizer.texts_to_sequences(x_train) \n",
    "x_val_seq = x_tokenizer.texts_to_sequences(x_val)\n",
    "\n",
    "#Padding with zero upto maximum length\n",
    "x_train = pad_sequences(x_train_seq,  maxlen=max_source_len, padding='post')\n",
    "x_val = pad_sequences(x_val_seq, maxlen=max_source_len, padding='post')\n",
    "\n",
    "#Size of vocabulary (+1 for padding token)\n",
    "x_vocab = len(x_tokenizer.word_index) + 1\n",
    "print(x_vocab)"
   ]
  },
  {
   "cell_type": "markdown",
   "metadata": {},
   "source": [
    "# Target Text Tokenizer"
   ]
  },
  {
   "cell_type": "code",
   "execution_count": 18,
   "metadata": {},
   "outputs": [
    {
     "name": "stdout",
     "output_type": "stream",
     "text": [
      "8313\n"
     ]
    }
   ],
   "source": [
    "#Tokenize target words in training data\n",
    "y_tokenizer = Tokenizer()   \n",
    "y_tokenizer.fit_on_texts(list(y_train))\n",
    "\n",
    "#Convert text sequences into integer sequences\n",
    "y_train_seq = y_tokenizer.texts_to_sequences(y_train) \n",
    "y_val_seq = y_tokenizer.texts_to_sequences(y_val) \n",
    "\n",
    "#Padding with zero upto maximum length\n",
    "y_train = pad_sequences(y_train_seq, maxlen=max_target_len, padding='post')\n",
    "y_val = pad_sequences(y_val_seq, maxlen=max_target_len, padding='post')\n",
    "\n",
    "#Size of vocabulary (+1 for padding token)\n",
    "y_vocab = len(y_tokenizer.word_index) +1\n",
    "print(y_vocab)"
   ]
  },
  {
   "cell_type": "markdown",
   "metadata": {},
   "source": [
    "# Model Build\n",
    "Here, we are building a 3 stacked LSTM for the encoder:"
   ]
  },
  {
   "cell_type": "code",
   "execution_count": 19,
   "metadata": {},
   "outputs": [
    {
     "name": "stdout",
     "output_type": "stream",
     "text": [
      "Model: \"model\"\n",
      "__________________________________________________________________________________________________\n",
      "Layer (type)                    Output Shape         Param #     Connected to                     \n",
      "==================================================================================================\n",
      "input_1 (InputLayer)            [(None, 100)]        0                                            \n",
      "__________________________________________________________________________________________________\n",
      "embedding (Embedding)           (None, 100, 50)      694000      input_1[0][0]                    \n",
      "__________________________________________________________________________________________________\n",
      "lstm (LSTM)                     [(None, 100, 100), ( 60400       embedding[0][0]                  \n",
      "__________________________________________________________________________________________________\n",
      "input_2 (InputLayer)            [(None, None)]       0                                            \n",
      "__________________________________________________________________________________________________\n",
      "lstm_1 (LSTM)                   [(None, 100, 100), ( 80400       lstm[0][0]                       \n",
      "__________________________________________________________________________________________________\n",
      "embedding_1 (Embedding)         (None, None, 50)     415650      input_2[0][0]                    \n",
      "__________________________________________________________________________________________________\n",
      "lstm_2 (LSTM)                   [(None, 100, 100), ( 80400       lstm_1[0][0]                     \n",
      "__________________________________________________________________________________________________\n",
      "lstm_3 (LSTM)                   [(None, None, 100),  60400       embedding_1[0][0]                \n",
      "                                                                 lstm_2[0][1]                     \n",
      "                                                                 lstm_2[0][2]                     \n",
      "__________________________________________________________________________________________________\n",
      "attention_layer (AttentionLayer ((None, None, 100),  20100       lstm_2[0][0]                     \n",
      "                                                                 lstm_3[0][0]                     \n",
      "__________________________________________________________________________________________________\n",
      "concat_layer (Concatenate)      (None, None, 200)    0           lstm_3[0][0]                     \n",
      "                                                                 attention_layer[0][0]            \n",
      "__________________________________________________________________________________________________\n",
      "time_distributed (TimeDistribut (None, None, 8313)   1670913     concat_layer[0][0]               \n",
      "==================================================================================================\n",
      "Total params: 3,082,263\n",
      "Trainable params: 3,082,263\n",
      "Non-trainable params: 0\n",
      "__________________________________________________________________________________________________\n"
     ]
    }
   ],
   "source": [
    "from keras import backend as K \n",
    "K.clear_session()\n",
    "\n",
    "latent_dim = max_source_len\n",
    "embedding_dim=50\n",
    "epochs = 100\n",
    "\n",
    "# Encoder\n",
    "encoder_inputs = Input(shape=(max_source_len,))\n",
    "\n",
    "#embedding layer\n",
    "enc_emb =  Embedding(x_vocab, embedding_dim,trainable=True)(encoder_inputs)\n",
    "\n",
    "#encoder lstm 1\n",
    "encoder_lstm1 = LSTM(latent_dim,return_sequences=True,return_state=True,dropout=0.3,recurrent_dropout=0.3)\n",
    "encoder_output1, state_h1, state_c1 = encoder_lstm1(enc_emb)\n",
    "\n",
    "#encoder lstm 2\n",
    "encoder_lstm2 = LSTM(latent_dim,return_sequences=True,return_state=True,dropout=0.3,recurrent_dropout=0.3)\n",
    "encoder_output2, state_h2, state_c2 = encoder_lstm2(encoder_output1)\n",
    "\n",
    "#encoder lstm 3\n",
    "encoder_lstm3=LSTM(latent_dim, return_state=True, return_sequences=True,dropout=0.3,recurrent_dropout=0.3)\n",
    "encoder_outputs, state_h, state_c= encoder_lstm3(encoder_output2)\n",
    "\n",
    "# Set up the decoder, using `encoder_states` as initial state.\n",
    "decoder_inputs = Input(shape=(None,))\n",
    "\n",
    "#embedding layer\n",
    "dec_emb_layer = Embedding(y_vocab, embedding_dim,trainable=True)\n",
    "dec_emb = dec_emb_layer(decoder_inputs)\n",
    "\n",
    "decoder_lstm = LSTM(latent_dim, return_sequences=True, return_state=True,dropout=0.2,recurrent_dropout=0.2)\n",
    "decoder_outputs,decoder_fwd_state, decoder_back_state = decoder_lstm(dec_emb,initial_state=[state_h, state_c])\n",
    "\n",
    "# Attention layer\n",
    "attn_layer = AttentionLayer(name='attention_layer')\n",
    "attn_out, attn_states = attn_layer([encoder_outputs, decoder_outputs])\n",
    "\n",
    "# Concat attention input and decoder LSTM output\n",
    "decoder_concat_input = Concatenate(axis=-1, name='concat_layer')([decoder_outputs, attn_out])\n",
    "\n",
    "#dense layer\n",
    "decoder_dense =  TimeDistributed(Dense(y_vocab, activation='softmax'))\n",
    "decoder_outputs = decoder_dense(decoder_concat_input)\n",
    "\n",
    "# Define the model \n",
    "model = Model([encoder_inputs, decoder_inputs], decoder_outputs)\n",
    "\n",
    "model.summary()"
   ]
  },
  {
   "cell_type": "code",
   "execution_count": 20,
   "metadata": {},
   "outputs": [
    {
     "name": "stdout",
     "output_type": "stream",
     "text": [
      "Train on 13918 samples, validate on 1547 samples\n",
      "Epoch 1/100\n",
      "13918/13918 [==============================] - 251s 18ms/sample - loss: 2.9056 - val_loss: 2.1001\n",
      "Epoch 2/100\n",
      "13918/13918 [==============================] - 278s 20ms/sample - loss: 2.1535 - val_loss: 1.8701\n",
      "Epoch 3/100\n",
      "13918/13918 [==============================] - 292s 21ms/sample - loss: 1.9388 - val_loss: 1.7242\n",
      "Epoch 4/100\n",
      "13918/13918 [==============================] - 296s 21ms/sample - loss: 1.7957 - val_loss: 1.5909\n",
      "Epoch 5/100\n",
      "13918/13918 [==============================] - 289s 21ms/sample - loss: 1.6779 - val_loss: 1.4988\n",
      "Epoch 6/100\n",
      "13918/13918 [==============================] - 288s 21ms/sample - loss: 1.5792 - val_loss: 1.4162\n",
      "Epoch 7/100\n",
      "13918/13918 [==============================] - 290s 21ms/sample - loss: 1.4960 - val_loss: 1.3426\n",
      "Epoch 8/100\n",
      "13918/13918 [==============================] - 292s 21ms/sample - loss: 1.4281 - val_loss: 1.2905\n",
      "Epoch 9/100\n",
      "13918/13918 [==============================] - 301s 22ms/sample - loss: 1.3677 - val_loss: 1.2374\n",
      "Epoch 10/100\n",
      "13918/13918 [==============================] - 294s 21ms/sample - loss: 1.3158 - val_loss: 1.2009\n",
      "Epoch 11/100\n",
      "13918/13918 [==============================] - 292s 21ms/sample - loss: 1.2722 - val_loss: 1.1657\n",
      "Epoch 12/100\n",
      "13918/13918 [==============================] - 287s 21ms/sample - loss: 1.2333 - val_loss: 1.1341\n",
      "Epoch 13/100\n",
      "13918/13918 [==============================] - 285s 20ms/sample - loss: 1.1969 - val_loss: 1.1114\n",
      "Epoch 14/100\n",
      "13918/13918 [==============================] - 287s 21ms/sample - loss: 1.1629 - val_loss: 1.0780\n",
      "Epoch 15/100\n",
      "13918/13918 [==============================] - 285s 21ms/sample - loss: 1.1306 - val_loss: 1.0546\n",
      "Epoch 16/100\n",
      "13918/13918 [==============================] - 289s 21ms/sample - loss: 1.0988 - val_loss: 1.0320\n",
      "Epoch 17/100\n",
      "13918/13918 [==============================] - 299s 21ms/sample - loss: 1.0711 - val_loss: 1.0088\n",
      "Epoch 18/100\n",
      "13918/13918 [==============================] - 309s 22ms/sample - loss: 1.0441 - val_loss: 0.9855\n",
      "Epoch 19/100\n",
      "13918/13918 [==============================] - 290s 21ms/sample - loss: 1.0194 - val_loss: 0.9687\n",
      "Epoch 20/100\n",
      "13918/13918 [==============================] - 291s 21ms/sample - loss: 0.9958 - val_loss: 0.9507\n",
      "Epoch 21/100\n",
      "13918/13918 [==============================] - 290s 21ms/sample - loss: 0.9743 - val_loss: 0.9377\n",
      "Epoch 22/100\n",
      "13918/13918 [==============================] - 288s 21ms/sample - loss: 0.9538 - val_loss: 0.9211\n",
      "Epoch 23/100\n",
      "13918/13918 [==============================] - 288s 21ms/sample - loss: 0.9320 - val_loss: 0.9065\n",
      "Epoch 24/100\n",
      "13918/13918 [==============================] - 290s 21ms/sample - loss: 0.9132 - val_loss: 0.8926\n",
      "Epoch 25/100\n",
      "13918/13918 [==============================] - 291s 21ms/sample - loss: 0.8957 - val_loss: 0.8794\n",
      "Epoch 26/100\n",
      "13918/13918 [==============================] - 290s 21ms/sample - loss: 0.8793 - val_loss: 0.8678\n",
      "Epoch 27/100\n",
      "13918/13918 [==============================] - 291s 21ms/sample - loss: 0.8632 - val_loss: 0.8600\n",
      "Epoch 28/100\n",
      "13918/13918 [==============================] - 292s 21ms/sample - loss: 0.8478 - val_loss: 0.8501\n",
      "Epoch 29/100\n",
      "13918/13918 [==============================] - 288s 21ms/sample - loss: 0.8342 - val_loss: 0.8422\n",
      "Epoch 30/100\n",
      "13918/13918 [==============================] - 290s 21ms/sample - loss: 0.8216 - val_loss: 0.8414\n",
      "Epoch 31/100\n",
      "13918/13918 [==============================] - 308s 22ms/sample - loss: 0.8073 - val_loss: 0.8283\n",
      "Epoch 32/100\n",
      "13918/13918 [==============================] - 294s 21ms/sample - loss: 0.7928 - val_loss: 0.8128\n",
      "Epoch 33/100\n",
      "13918/13918 [==============================] - 292s 21ms/sample - loss: 0.7802 - val_loss: 0.8050\n",
      "Epoch 34/100\n",
      "13918/13918 [==============================] - 290s 21ms/sample - loss: 0.7693 - val_loss: 0.8014\n",
      "Epoch 35/100\n",
      "13918/13918 [==============================] - 290s 21ms/sample - loss: 0.7566 - val_loss: 0.7907\n",
      "Epoch 36/100\n",
      "13918/13918 [==============================] - 292s 21ms/sample - loss: 0.7446 - val_loss: 0.7819\n",
      "Epoch 37/100\n",
      "13918/13918 [==============================] - 290s 21ms/sample - loss: 0.7348 - val_loss: 0.7781\n",
      "Epoch 38/100\n",
      "13918/13918 [==============================] - 292s 21ms/sample - loss: 0.7245 - val_loss: 0.7716\n",
      "Epoch 39/100\n",
      "13918/13918 [==============================] - 288s 21ms/sample - loss: 0.7140 - val_loss: 0.7638\n",
      "Epoch 40/100\n",
      "13918/13918 [==============================] - 290s 21ms/sample - loss: 0.7051 - val_loss: 0.7598\n",
      "Epoch 41/100\n",
      "13918/13918 [==============================] - 289s 21ms/sample - loss: 0.6944 - val_loss: 0.7566\n",
      "Epoch 42/100\n",
      "13918/13918 [==============================] - 292s 21ms/sample - loss: 0.6850 - val_loss: 0.7472\n",
      "Epoch 43/100\n",
      "13918/13918 [==============================] - 288s 21ms/sample - loss: 0.6764 - val_loss: 0.7441\n",
      "Epoch 44/100\n",
      "13918/13918 [==============================] - 289s 21ms/sample - loss: 0.6670 - val_loss: 0.7390\n",
      "Epoch 45/100\n",
      "13918/13918 [==============================] - 290s 21ms/sample - loss: 0.6584 - val_loss: 0.7349\n",
      "Epoch 46/100\n",
      "13918/13918 [==============================] - 290s 21ms/sample - loss: 0.6498 - val_loss: 0.7314\n",
      "Epoch 47/100\n",
      "13918/13918 [==============================] - 289s 21ms/sample - loss: 0.6421 - val_loss: 0.7290\n",
      "Epoch 48/100\n",
      "13918/13918 [==============================] - 290s 21ms/sample - loss: 0.6343 - val_loss: 0.7219\n",
      "Epoch 49/100\n",
      "13918/13918 [==============================] - 289s 21ms/sample - loss: 0.6255 - val_loss: 0.7144\n",
      "Epoch 50/100\n",
      "13918/13918 [==============================] - 292s 21ms/sample - loss: 0.6166 - val_loss: 0.7124\n",
      "Epoch 51/100\n",
      "13918/13918 [==============================] - 287s 21ms/sample - loss: 0.6083 - val_loss: 0.7102\n",
      "Epoch 52/100\n",
      "13918/13918 [==============================] - 291s 21ms/sample - loss: 0.6015 - val_loss: 0.7080\n",
      "Epoch 53/100\n",
      "13918/13918 [==============================] - 288s 21ms/sample - loss: 0.5933 - val_loss: 0.7051\n",
      "Epoch 54/100\n",
      "13918/13918 [==============================] - 291s 21ms/sample - loss: 0.5864 - val_loss: 0.6992\n",
      "Epoch 55/100\n",
      "13918/13918 [==============================] - 290s 21ms/sample - loss: 0.5792 - val_loss: 0.6991\n",
      "Epoch 56/100\n",
      "13918/13918 [==============================] - 288s 21ms/sample - loss: 0.5732 - val_loss: 0.6966\n",
      "Epoch 57/100\n",
      "13918/13918 [==============================] - 292s 21ms/sample - loss: 0.5667 - val_loss: 0.6930\n",
      "Epoch 58/100\n",
      "13918/13918 [==============================] - 292s 21ms/sample - loss: 0.5613 - val_loss: 0.6882\n",
      "Epoch 59/100\n",
      "13918/13918 [==============================] - 291s 21ms/sample - loss: 0.5547 - val_loss: 0.6861\n",
      "Epoch 60/100\n",
      "13918/13918 [==============================] - 289s 21ms/sample - loss: 0.5474 - val_loss: 0.6819\n",
      "Epoch 61/100\n",
      "13918/13918 [==============================] - 289s 21ms/sample - loss: 0.5408 - val_loss: 0.6791\n",
      "Epoch 62/100\n",
      "13918/13918 [==============================] - 288s 21ms/sample - loss: 0.5368 - val_loss: 0.6753\n",
      "Epoch 63/100\n",
      "13918/13918 [==============================] - 287s 21ms/sample - loss: 0.5302 - val_loss: 0.6770\n",
      "Epoch 64/100\n",
      "13918/13918 [==============================] - 292s 21ms/sample - loss: 0.5238 - val_loss: 0.6717\n",
      "Epoch 65/100\n",
      "13918/13918 [==============================] - 293s 21ms/sample - loss: 0.5189 - val_loss: 0.6706\n",
      "Epoch 66/100\n",
      "13918/13918 [==============================] - 295s 21ms/sample - loss: 0.5135 - val_loss: 0.6679\n",
      "Epoch 67/100\n",
      "13918/13918 [==============================] - 294s 21ms/sample - loss: 0.5091 - val_loss: 0.6653\n",
      "Epoch 68/100\n",
      "13918/13918 [==============================] - 293s 21ms/sample - loss: 0.5030 - val_loss: 0.6627\n",
      "Epoch 69/100\n",
      "13918/13918 [==============================] - 294s 21ms/sample - loss: 0.4986 - val_loss: 0.6604\n",
      "Epoch 70/100\n",
      "13918/13918 [==============================] - 296s 21ms/sample - loss: 0.4914 - val_loss: 0.6581\n",
      "Epoch 71/100\n",
      "13918/13918 [==============================] - 295s 21ms/sample - loss: 0.4871 - val_loss: 0.6537\n",
      "Epoch 72/100\n",
      "13918/13918 [==============================] - 294s 21ms/sample - loss: 0.4813 - val_loss: 0.6496\n",
      "Epoch 73/100\n",
      "13918/13918 [==============================] - 291s 21ms/sample - loss: 0.4764 - val_loss: 0.6515\n",
      "Epoch 74/100\n",
      "13918/13918 [==============================] - 292s 21ms/sample - loss: 0.4735 - val_loss: 0.6486\n",
      "Epoch 75/100\n",
      "13918/13918 [==============================] - 292s 21ms/sample - loss: 0.4672 - val_loss: 0.6467\n",
      "Epoch 76/100\n",
      "13918/13918 [==============================] - 295s 21ms/sample - loss: 0.4622 - val_loss: 0.6464\n",
      "Epoch 77/100\n",
      "13918/13918 [==============================] - 296s 21ms/sample - loss: 0.4564 - val_loss: 0.6428\n",
      "Epoch 78/100\n",
      "13918/13918 [==============================] - 295s 21ms/sample - loss: 0.4522 - val_loss: 0.6426\n",
      "Epoch 79/100\n",
      "13918/13918 [==============================] - 296s 21ms/sample - loss: 0.4480 - val_loss: 0.6405\n",
      "Epoch 80/100\n",
      "13918/13918 [==============================] - 296s 21ms/sample - loss: 0.4431 - val_loss: 0.6392\n",
      "Epoch 81/100\n",
      "13918/13918 [==============================] - 295s 21ms/sample - loss: 0.4398 - val_loss: 0.6370\n",
      "Epoch 82/100\n",
      "13918/13918 [==============================] - 305s 22ms/sample - loss: 0.4358 - val_loss: 0.6379\n",
      "Epoch 83/100\n",
      "13918/13918 [==============================] - 293s 21ms/sample - loss: 0.4321 - val_loss: 0.6365\n",
      "Epoch 84/100\n",
      "13918/13918 [==============================] - 295s 21ms/sample - loss: 0.4281 - val_loss: 0.6331\n",
      "Epoch 85/100\n",
      "13918/13918 [==============================] - 293s 21ms/sample - loss: 0.4248 - val_loss: 0.6328\n",
      "Epoch 86/100\n",
      "13918/13918 [==============================] - 291s 21ms/sample - loss: 0.4202 - val_loss: 0.6333\n",
      "Epoch 87/100\n",
      "13918/13918 [==============================] - 290s 21ms/sample - loss: 0.4172 - val_loss: 0.6320\n",
      "Epoch 88/100\n",
      "13918/13918 [==============================] - 288s 21ms/sample - loss: 0.4130 - val_loss: 0.6297\n",
      "Epoch 89/100\n",
      "13918/13918 [==============================] - 285s 20ms/sample - loss: 0.4095 - val_loss: 0.6264\n",
      "Epoch 90/100\n",
      "13918/13918 [==============================] - 286s 21ms/sample - loss: 0.4049 - val_loss: 0.6270\n",
      "Epoch 91/100\n",
      "13918/13918 [==============================] - 288s 21ms/sample - loss: 0.4008 - val_loss: 0.6260\n",
      "Epoch 92/100\n",
      "13918/13918 [==============================] - 281s 20ms/sample - loss: 0.3976 - val_loss: 0.6220\n",
      "Epoch 93/100\n",
      "13918/13918 [==============================] - 288s 21ms/sample - loss: 0.3944 - val_loss: 0.6235\n",
      "Epoch 94/100\n",
      "13918/13918 [==============================] - 286s 21ms/sample - loss: 0.3913 - val_loss: 0.6209\n",
      "Epoch 95/100\n",
      "13918/13918 [==============================] - 285s 20ms/sample - loss: 0.3885 - val_loss: 0.6188\n",
      "Epoch 96/100\n",
      "13918/13918 [==============================] - 290s 21ms/sample - loss: 0.3854 - val_loss: 0.6209\n",
      "Epoch 97/100\n",
      "13918/13918 [==============================] - 289s 21ms/sample - loss: 0.3815 - val_loss: 0.6196\n",
      "Epoch 00097: early stopping\n"
     ]
    }
   ],
   "source": [
    "model.compile(optimizer='rmsprop', loss='sparse_categorical_crossentropy')\n",
    "es = EarlyStopping(monitor='val_loss', mode='min', verbose=1,patience=2)\n",
    "history=model.fit([x_train,y_train[:,:-1]], y_train.reshape(y_train.shape[0],y_train.shape[1], 1)[:,1:] ,\n",
    "                  validation_data=([x_val, y_val[:,:-1]], y_val.reshape(y_val.shape[0],y_val.shape[1], 1)[:,1:]),\n",
    "                  epochs=epochs, callbacks=[es], batch_size=128)"
   ]
  },
  {
   "cell_type": "markdown",
   "metadata": {},
   "source": [
    "# Diagnostic plot"
   ]
  },
  {
   "cell_type": "code",
   "execution_count": 21,
   "metadata": {},
   "outputs": [
    {
     "data": {
      "image/png": "[encoded data removed]",
      "text/plain": [
       "<Figure size 432x288 with 1 Axes>"
      ]
     },
     "metadata": {
      "needs_background": "light"
     },
     "output_type": "display_data"
    }
   ],
   "source": [
    "from matplotlib import pyplot\n",
    "pyplot.plot(history.history['loss'], label='train')\n",
    "pyplot.plot(history.history['val_loss'], label='test')\n",
    "pyplot.legend()\n",
    "pyplot.show()"
   ]
  },
  {
   "cell_type": "markdown",
   "metadata": {},
   "source": [
    "Now let’s build the dictionary to convert the index to word for target and source vocabulary:"
   ]
  },
  {
   "cell_type": "code",
   "execution_count": 22,
   "metadata": {},
   "outputs": [],
   "source": [
    "reverse_target_word_index=y_tokenizer.index_word\n",
    "reverse_source_word_index=x_tokenizer.index_word\n",
    "target_word_index=y_tokenizer.word_index"
   ]
  },
  {
   "cell_type": "markdown",
   "metadata": {},
   "source": [
    "# Inference\n",
    "Set up the inference for the encoder and decoder:"
   ]
  },
  {
   "cell_type": "code",
   "execution_count": 23,
   "metadata": {},
   "outputs": [],
   "source": [
    "# Encode the input sequence to get the feature vector\n",
    "encoder_model = Model(inputs=encoder_inputs,outputs=[encoder_outputs, state_h, state_c])\n",
    "\n",
    "# Decoder setup\n",
    "# Below tensors will hold the states of the previous time step\n",
    "decoder_state_input_h = Input(shape=(latent_dim,))\n",
    "decoder_state_input_c = Input(shape=(latent_dim,))\n",
    "decoder_hidden_state_input = Input(shape=(max_source_len,latent_dim))\n",
    "\n",
    "# Get the embeddings of the decoder sequence\n",
    "dec_emb2= dec_emb_layer(decoder_inputs) \n",
    "# To predict the next word in the sequence, set the initial states to the states from the previous time step\n",
    "decoder_outputs2, state_h2, state_c2 = decoder_lstm(dec_emb2, initial_state=[decoder_state_input_h, decoder_state_input_c])\n",
    "\n",
    "# Attention inference\n",
    "attn_out_inf, attn_states_inf = attn_layer([decoder_hidden_state_input, decoder_outputs2])\n",
    "decoder_inf_concat = Concatenate(axis=-1, name='concat')([decoder_outputs2, attn_out_inf])\n",
    "\n",
    "# A dense softmax layer to generate prob dist. over the target vocabulary\n",
    "decoder_outputs2 = decoder_dense(decoder_inf_concat) \n",
    "\n",
    "# Final decoder model\n",
    "decoder_model = Model(\n",
    "    [decoder_inputs] + [decoder_hidden_state_input,decoder_state_input_h, decoder_state_input_c],\n",
    "    [decoder_outputs2] + [state_h2, state_c2])"
   ]
  },
  {
   "cell_type": "markdown",
   "metadata": {},
   "source": [
    "We are defining a function below which is the implementation of the inference process:"
   ]
  },
  {
   "cell_type": "code",
   "execution_count": 24,
   "metadata": {},
   "outputs": [],
   "source": [
    "def decode_sequence(input_seq):\n",
    "    # Encode the input as state vectors.\n",
    "    e_out, e_h, e_c = encoder_model.predict(input_seq)\n",
    "    \n",
    "    # Generate empty target sequence of length 1.\n",
    "    target_seq = np.zeros((1,1))\n",
    "    \n",
    "    # Populate the first word of target sequence with the start word.\n",
    "    target_seq[0, 0] = target_word_index['start']\n",
    "\n",
    "    stop_condition = False\n",
    "    decoded_sentence = ''\n",
    "    while not stop_condition:\n",
    "      \n",
    "        output_tokens, h, c = decoder_model.predict([target_seq] + [e_out, e_h, e_c])\n",
    "\n",
    "        # Sample a token\n",
    "        sampled_token_index = np.argmax(output_tokens[0, -1, :])\n",
    "        sampled_token = reverse_target_word_index[sampled_token_index]\n",
    "        \n",
    "        if(sampled_token!='end'):\n",
    "            decoded_sentence += ' '+sampled_token\n",
    "\n",
    "        # Exit condition: either hit max length or find stop word.\n",
    "        if (sampled_token == 'end'  or len(decoded_sentence.split()) >= (max_target_len-1)):\n",
    "            stop_condition = True\n",
    "\n",
    "        # Update the target sequence (of length 1).\n",
    "        target_seq = np.zeros((1,1))\n",
    "        target_seq[0, 0] = sampled_token_index\n",
    "\n",
    "        # Update internal states\n",
    "        e_h, e_c = h, c\n",
    "\n",
    "    return decoded_sentence"
   ]
  },
  {
   "cell_type": "markdown",
   "metadata": {},
   "source": [
    "Here are a few summaries generated by the model on our validation dataset:"
   ]
  },
  {
   "cell_type": "code",
   "execution_count": 25,
   "metadata": {},
   "outputs": [
    {
     "name": "stdout",
     "output_type": "stream",
     "text": [
      "Source Sentence: buy allure auto cm car mat hyundai sonata embera rs online allure auto cm car mat hyundai sonata embera best prices free shipping cash delivery genuine products day replacement guarantee \n",
      "Original Target: allure auto cm car mat hyundai sonata embera \n",
      "Predicted Target:  allure auto cm car mat maruti gypsy\n",
      "\n",
      "\n",
      "Source Sentence: buy handicrafts showpiece cm rs online handicrafts showpiece cm best prices free shipping cash delivery genuine products day replacement guarantee \n",
      "Original Target: handicrafts showpiece cm \n",
      "Predicted Target:  handicrafts showpiece cm\n",
      "\n",
      "\n",
      "Source Sentence: cotonex blue pink cotton kitchen linen set price rs reviews cotonex pure cotton glove specifications cotonex blue pink cotton kitchen linen set general brand cotonex design code kls material cotton style code kls pattern striped design stripe design color blue pink dimensions weight additional features fabric care machine washable dry clean bleach box number contents sales package pack sales package glove \n",
      "Original Target: cotonex blue pink cotton kitchen linen set \n",
      "Predicted Target:  cotonex pink cotton kitchen linen set\n",
      "\n",
      "\n",
      "Source Sentence: ploomz women push bra buy red ploomz women push bra rs online india shop online apparels huge collection branded clothes flipkart com \n",
      "Original Target: ploomz women push up bra \n",
      "Predicted Target:  ploomz women push up bra\n",
      "\n",
      "\n",
      "Source Sentence: hrx casual short sleeve printed women top buy petite blue grey milange hrx casual short sleeve printed women top rs online india shop online apparels huge collection branded clothes flipkart com \n",
      "Original Target: hrx casual short sleeve printed women top \n",
      "Predicted Target:  allen solly casual short sleeve solid women top\n",
      "\n",
      "\n",
      "Source Sentence: buy offspring solid single blanket yellow rs flipkart com genuine products free shipping cash delivery \n",
      "Original Target: offspring solid single blanket yellow \n",
      "Predicted Target:  offspring solid single blanket blue\n",
      "\n",
      "\n",
      "Source Sentence: orange orchid striped men polo neck shirt buy brown navy orange orchid striped men polo neck shirt rs online india shop online apparels huge collection branded clothes flipkart com \n",
      "Original Target: orange and orchid striped men polo neck shirt \n",
      "Predicted Target:  orange and orchid striped men polo shirt\n",
      "\n",
      "\n",
      "Source Sentence: faballey casual full sleeve solid women top buy blue faballey casual full sleeve solid women top rs online india shop online apparels huge collection branded clothes flipkart com \n",
      "Original Target: faballey casual full sleeve solid women top \n",
      "Predicted Target:  faballey casual full sleeve solid women top\n",
      "\n",
      "\n",
      "Source Sentence: aaliya festive full sleeve solid women top price rs light weight natural viscose fabric arrow shaped hand embroidery sleeve wear work party light weight natural viscose fabric arrow shaped hand embroidery sleeve wear work party \n",
      "Original Target: aaliya festive full sleeve solid women top \n",
      "Predicted Target:  aaliya casual sleeveless embellished women top\n",
      "\n",
      "\n",
      "Source Sentence: vision shell necklace buy vision shell necklace rs flipkart com genuine products day replacement guarantee free shipping cash delivery \n",
      "Original Target: shell necklace \n",
      "Predicted Target:  trinketbag turquoise ivory necklace\n",
      "\n",
      "\n",
      "Source Sentence: next steps striped round neck casual boy sweater price rs boys winter sweater boys winter sweater \n",
      "Original Target: next steps striped round neck casual boy sweater \n",
      "Predicted Target:  zink london casual full sleeve solid women top\n",
      "\n",
      "\n",
      "Source Sentence: key features hugme fashion full sleeve solid men jacket genuin leather bag ideal men women specifications hugme fashion full sleeve solid men jacket jacket details sleeve full sleeve fabric leather general details pattern solid ideal men additional details style code jk black \n",
      "Original Target: hugme fashion full sleeve solid men jacket \n",
      "Predicted Target:  hugme fashion full sleeve solid men jacket\n",
      "\n",
      "\n",
      "Source Sentence: specifications ball gb ddr dual core ram hard disk performance features processor speed ghz processor name intel processor type dual core number cores general brand ball operating system free graphics memory na gb model name gb ddr graphics intel system memory storage features memory technology ddr ram gb hard disk capacity gb warranty covered warranty parts product service type year domestic warranty warranty summary year domestic warranty covered parts product covered warranty burning physically damaged dimensions weight kg height cm width cm depth cm box sales package cpu driver cd power cable \n",
      "Original Target: ball gb ddr with dual hard disk \n",
      "Predicted Target:  god business visiting card holder\n",
      "\n",
      "\n",
      "Source Sentence: specifications oem bike centre stand general brand oem vehicle model name discover model number vehicle brand bajaj type centre stand material stainless steel color black dimensions weight box bike centre stand \n",
      "Original Target: oem bike centre stand \n",
      "Predicted Target:  oem bike side stand\n",
      "\n",
      "\n",
      "Source Sentence: buy plant container set rs online plant container set best prices free shipping cash delivery genuine products day replacement guarantee \n",
      "Original Target: plant container set \n",
      "Predicted Target:  vgreen plant container set\n",
      "\n",
      "\n",
      "Source Sentence: buy allure auto cm car mat honda civic rs online allure auto cm car mat honda civic best prices free shipping cash delivery genuine products day replacement guarantee \n",
      "Original Target: allure auto cm car mat honda civic \n",
      "Predicted Target:  allure auto cm car mat maruti gypsy\n",
      "\n",
      "\n",
      "Source Sentence: key features jon pep slippers ideal men jon pep slippers price rs slippers graphic prints foot beds wide synthetic foot straps best product perfect fitness attractive style low price make comfortable wear long lasting rubber durable use products specifications jon pep slippers general ideal men slipper flip flop details type slippers color red \n",
      "Original Target: jon pep slippers \n",
      "Predicted Target:  raju purse by day shoulder bag\n",
      "\n",
      "\n",
      "Source Sentence: flipkart com buy palakz magnetic bus art plastic pencil box rs flipkart com genuine products day replacement guarantee free shipping cash delivery \n",
      "Original Target: palakz magnetic bus art plastic pencil box \n",
      "Predicted Target:  palakz soft pouch art plush pencil box\n",
      "\n",
      "\n",
      "Source Sentence: bgs alloy crystal bracelet price rs bgs multicolor charm bracelet bgs multicolor charm bracelet \n",
      "Original Target: bgs alloy crystal bracelet \n",
      "Predicted Target:  bgs alloy bracelet\n",
      "\n",
      "\n",
      "Source Sentence: taj pearl leather bracelet buy taj pearl leather bracelet rs flipkart com genuine products day replacement guarantee free shipping cash delivery \n",
      "Original Target: taj pearl leather bracelet \n",
      "Predicted Target:  juhi malhotra ceramic choker\n",
      "\n",
      "\n",
      "Source Sentence: kuhuk plastic bangle set price rs hand made jewellery hand made jewellery \n",
      "Original Target: kuhuk plastic bangle set \n",
      "Predicted Target:  kuhuk plastic bangle set\n",
      "\n",
      "\n",
      "Source Sentence: specifications firangi cotton polyester free floor mat firangi decorative fur door mat general ideal use multipurpose brand firangi type floor model name firangi decorative fur door mat model id fr mt size free color multicolor mat features material cotton polyester dimensions weight box number contents sales package sales package mats \n",
      "Original Target: firangi cotton polyester free floor mat firangi decorative fur door mat \n",
      "Predicted Target:  sne book cover for apple ipad\n",
      "\n",
      "\n",
      "Source Sentence: fine world copper metal embedded dark pink stones brass zircon metal drop earring buy fine world copper metal embedded dark pink stones brass zircon metal drop earring rs flipkart com genuine products day replacement guarantee free shipping cash delivery \n",
      "Original Target: the fine world copper metal embedded with dark pink stones brass zircon metal drop earring \n",
      "Predicted Target:  the fine world brass zircon metal drop earring\n",
      "\n",
      "\n",
      "Source Sentence: affinity jewellers designer gold gold taar mala string pearl yellow gold plated alloy necklace price rs affinity jewellers designer gold pearl pearl beads gold taar mala string gold plated affinity jewellers designer gold pearl pearl beads gold taar mala string gold plated \n",
      "Original Target: affinity jewellers designer gold gold taar mala string pearl yellow gold plated alloy necklace \n",
      "Predicted Target:  jacknjewel crystal yellow gold diamond ring\n",
      "\n",
      "\n",
      "Source Sentence: sapphire diaries regular diary hard bound price rs enhance using diary brought sapphire diaries available varied formats beautiful designs diaries brand must students well professionals enhance using diary brought sapphire diaries available varied formats beautiful designs diaries brand must students well professionals \n",
      "Original Target: sapphire diaries regular diary hard bound \n",
      "Predicted Target:  pilot roller ball pen\n",
      "\n",
      "\n",
      "Source Sentence: flirtchick yellow gold plated alloy necklace buy flirtchick yellow gold plated alloy necklace rs flipkart com genuine products day replacement guarantee free shipping cash delivery \n",
      "Original Target: flirtchick yellow gold plated alloy necklace \n",
      "Predicted Target:  bluestone yellow gold plated alloy necklace\n",
      "\n",
      "\n",
      "Source Sentence: vivity women full coverage bra buy white vivity women full coverage bra rs online india shop online apparels huge collection branded clothes flipkart com \n",
      "Original Target: vivity women full coverage bra \n",
      "Predicted Target:  vivity women full coverage bra\n",
      "\n",
      "\n",
      "Source Sentence: buy reusable rs online reusable best prices free shipping cash delivery genuine products day replacement guarantee \n",
      "Original Target: reusable \n",
      "Predicted Target:  sg sg combo set\n",
      "\n",
      "\n",
      "Source Sentence: buy agricart daisy double mix seed rs online agricart daisy double mix seed best prices free shipping cash delivery genuine products day replacement guarantee \n",
      "Original Target: agricart daisy double mix seed \n",
      "Predicted Target:  agricart checkered double shirt\n",
      "\n",
      "\n",
      "Source Sentence: king traders ki bd kitchen tool set price rs amongst trusted names manufacturing exclusive range butter dish pot butter dish pot widely used various offered range butter dish pots economical prices features impeccable finish long service life easy use dimension cm weight gram capacity kg specifications king traders ki bd kitchen tool set general brand king traders model number ki bd type butter dish pot material stainless steel color box sales package butter dish pot pack \n",
      "Original Target: king traders ki bd kitchen tool set \n",
      "Predicted Target:  ritco rsacf faucet set\n",
      "\n",
      "\n",
      "Source Sentence: seven days men solid formal linen shirt buy gold seven days men solid formal linen shirt rs online india shop online apparels huge collection branded clothes flipkart com \n",
      "Original Target: seven days men solid formal linen shirt \n",
      "Predicted Target:  indian weller men solid formal linen shirt\n",
      "\n",
      "\n",
      "Source Sentence: bonjour ladies socks women self design striped ankle length socks buy multicolor bonjour ladies socks women self design striped ankle length socks rs online india shop online apparels huge collection branded clothes flipkart com \n",
      "Original Target: bonjour ladies socks women self design striped ankle length socks \n",
      "Predicted Target:  rious women camisole\n",
      "\n",
      "\n",
      "Source Sentence: karishma women printed casual shirt buy white karishma women printed casual shirt rs online india shop online apparels huge collection branded clothes flipkart com \n",
      "Original Target: karishma women printed casual shirt \n",
      "Predicted Target:  karishma women solid formal shirt\n",
      "\n",
      "\n",
      "Source Sentence: flipkart com buy adidas ice drive dynamic pulse combo set online rs flipkart com genuine products day replacement guarantee free shipping cash delivery \n",
      "Original Target: adidas ice drive and dynamic pulse combo set \n",
      "Predicted Target:  adidas get ready and natural deo combo set\n",
      "\n",
      "\n",
      "Source Sentence: buy allure auto cm car mat mahindra xylo rs online allure auto cm car mat mahindra xylo best prices free shipping cash delivery genuine products day replacement guarantee \n",
      "Original Target: allure auto cm car mat mahindra xylo \n",
      "Predicted Target:  allure auto cm car mat maruti gypsy\n",
      "\n",
      "\n",
      "Source Sentence: desi women solid casual reversible shirt buy white desi women solid casual reversible shirt rs online india shop online apparels huge collection branded clothes flipkart com \n",
      "Original Target: we desi women solid casual reversible shirt \n",
      "Predicted Target:  femninora women solid casual formal shirt\n",
      "\n",
      "\n",
      "Source Sentence: fashion era metal necklace buy fashion era metal necklace rs flipkart com genuine products day replacement guarantee free shipping cash delivery \n",
      "Original Target: fashion era metal necklace \n",
      "Predicted Target:  fashion era metal necklace\n",
      "\n",
      "\n",
      "Source Sentence: key features esoft casual sleeveless solid women top black esoft casual sleeveless solid women top price rs esoft brings exclusive range tops tunics specifications esoft casual sleeveless solid women top top details sleeve sleeveless number contents sales package pack fabric rayon type top neck tube neck general details pattern solid ideal women occasion casual \n",
      "Original Target: esoft casual sleeveless solid women top \n",
      "Predicted Target:  esoft casual sleeveless solid women top\n",
      "\n",
      "\n",
      "Source Sentence: gift island sw fashionin digital watch men buy gift island sw fashionin digital watch men sw online rs india flipkart com great discounts genuine products day replacement guarantee free shipping cash delivery \n",
      "Original Target: gift island sw fashionin digital watch for men \n",
      "Predicted Target:  gift island sw fashionin digital watch for men\n",
      "\n",
      "\n",
      "Source Sentence: key features action shoes slippers ideal men sole material pu action shoes slippers price rs keep feet happy look stylish time wearing slippers action shoes slippers synthetic leather upper material lining ensure comfort rubber sole provides durability specifications action shoes slippers general ideal men slipper flip flop details sole material pu number contents sales package pack weight weight product may vary depending size type slippers color tan additional details care instructions wipe clean dry cloth box pair slipper \n",
      "Original Target: action shoes slippers \n",
      "Predicted Target:  action shoes slippers\n",
      "\n",
      "\n",
      "Source Sentence: cherymoya women solid casual shirt buy black cherymoya women solid casual shirt rs online india shop online apparels huge collection branded clothes flipkart com \n",
      "Original Target: cherymoya women solid casual shirt \n",
      "Predicted Target:  blute women solid casual shirt\n",
      "\n",
      "\n",
      "Source Sentence: status first love women minimizer bra buy white red black status first love women minimizer bra rs online india shop online apparels huge collection branded clothes flipkart com \n",
      "Original Target: status first love women minimizer bra \n",
      "Predicted Target:  status first love women minimizer bra\n",
      "\n",
      "\n",
      "Source Sentence: collection cde yellow gold pearl silver dangle earring buy collection cde yellow gold pearl silver dangle earring rs flipkart com genuine products day replacement guarantee free shipping cash delivery \n",
      "Original Target: the collection cde yellow gold pearl silver dangle earring \n",
      "Predicted Target:  pearl paradise swarovski crystal crystal silver dangle earring\n",
      "\n",
      "\n",
      "Source Sentence: flipkart com buy metro women wedges rs flipkart com genuine products day replacement guarantee free shipping cash delivery \n",
      "Original Target: metro women wedges \n",
      "Predicted Target:  liza women wedges\n",
      "\n",
      "\n",
      "Source Sentence: outtaskin striped men polo neck shirt buy red blue outtaskin striped men polo neck shirt rs online india shop online apparels huge collection branded clothes flipkart com \n",
      "Original Target: outtaskin striped men polo neck shirt \n",
      "Predicted Target:  outtaskin striped men polo neck shirt\n",
      "\n",
      "\n",
      "Source Sentence: sonata yl yuva gold analog watch women buy sonata yl yuva gold analog watch women yl online rs india flipkart com round dial white strap water resistant buckle clasp great discounts genuine products day replacement guarantee free shipping cash delivery \n",
      "Original Target: sonata yl yuva gold analog watch for women \n",
      "Predicted Target:  sonata yl yuva gold analog watch for women\n",
      "\n",
      "\n",
      "Source Sentence: rockmantra demon ceramic mug price rs give thrilling yet fresh start day exclusive creation rockmantra mug features porcelain crafting ensuring design stays permanent years come making perfect pick gift loved ones dishwasher microwave safe product details specifications material ceramic size give thrilling yet fresh start day exclusive creation rockmantra mug features porcelain crafting ensuring design stays permanent years come making perfect pick gift loved ones dishwasher microwave safe product details specifications material ceramic size \n",
      "Original Target: rockmantra demon ceramic mug \n",
      "Predicted Target:  rockmantra fantasy art ceramic mug\n",
      "\n",
      "\n",
      "Source Sentence: buy gift studios laxmi ganesh ji stone showpiece cm rs online gift studios laxmi ganesh ji stone showpiece cm best prices free shipping cash delivery genuine products day replacement guarantee \n",
      "Original Target: gift studios laxmi ganesh ji stone showpiece cm \n",
      "Predicted Target:  adaa ganesha ganesha showpiece cm\n",
      "\n",
      "\n",
      "Source Sentence: arra solid wood seater sofa price rs arra offers sofa set black black style elegance sofa cum bed bestow impress guests designer sofa cum bed assure comfort quality buying sofa cum bed arra offers sofa set black black style elegance sofa cum bed bestow impress guests designer sofa cum bed assure comfort quality buying sofa cum bed \n",
      "Original Target: arra solid wood seater sofa \n",
      "Predicted Target:  arra solid wood seater sofa\n",
      "\n",
      "\n",
      "Source Sentence: buy mxofere combo mixfruit lemongrass jasmine papaya aloevera soap kit rs online mxofere combo mixfruit lemongrass jasmine papaya aloevera soap kit best prices free shipping cash delivery genuine products day replacement guarantee \n",
      "Original Target: mxofere combo mixfruit lemongrass jasmine papaya aloevera soap kit \n",
      "Predicted Target:  mxofere combo rose jasmine papaya aloevera soap kit\n",
      "\n",
      "\n"
     ]
    }
   ],
   "source": [
    "def seq_to_target(input_seq):\n",
    "    newString=''\n",
    "    for i in input_seq:\n",
    "        if((i!=0 and i!=target_word_index['start']) and i!=target_word_index['end']):\n",
    "            newString=newString+reverse_target_word_index[i]+' '\n",
    "    return newString\n",
    "\n",
    "def seq_to_source(input_seq):\n",
    "    newString=''\n",
    "    for i in input_seq:\n",
    "        if(i!=0):\n",
    "            newString=newString+reverse_source_word_index[i]+' '\n",
    "    return newString\n",
    "\n",
    "for i in range(0,50):\n",
    "    print(\"Source Sentence:\",seq_to_source(x_val[i]))\n",
    "    print(\"Original Target:\",seq_to_target(y_val[i]))\n",
    "    print(\"Predicted Target:\",decode_sequence(x_val[i].reshape(1,max_source_len)))\n",
    "    print(\"\\n\")"
   ]
  }
 ],
 "metadata": {
  "kernelspec": {
   "display_name": "Python 3",
   "language": "python",
   "name": "python3"
  },
  "language_info": {
   "codemirror_mode": {
    "name": "ipython",
    "version": 3
   },
   "file_extension": ".py",
   "mimetype": "text/x-python",
   "name": "python",
   "nbconvert_exporter": "python",
   "pygments_lexer": "ipython3",
   "version": "3.7.4"
  }
 },
 "nbformat": 4,
 "nbformat_minor": 2
}
